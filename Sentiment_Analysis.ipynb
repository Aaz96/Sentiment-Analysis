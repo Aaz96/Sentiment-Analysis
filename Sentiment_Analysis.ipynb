{
  "nbformat": 4,
  "nbformat_minor": 5,
  "metadata": {
    "kernelspec": {
      "display_name": "Python 3",
      "language": "python",
      "name": "python3"
    },
    "language_info": {
      "codemirror_mode": {
        "name": "ipython",
        "version": 3
      },
      "file_extension": ".py",
      "mimetype": "text/x-python",
      "name": "python",
      "nbconvert_exporter": "python",
      "pygments_lexer": "ipython3",
      "version": "3.7.8"
    },
    "colab": {
      "name": "Sentiment Analysis.ipynb",
      "provenance": [],
      "collapsed_sections": []
    }
  },
  "cells": [
    {
      "cell_type": "markdown",
      "metadata": {
        "id": "ApAFqbnsKS9G"
      },
      "source": [
        "# Description\n",
        "\n",
        "The dataset is official Amazon Fashion Review dataset. Dataset contains total of 11 columns of which we will be using two columns:\n",
        "\n",
        "1. The overall column based on which we define the sentiment.\n",
        "2. The reviewText column which contains reviews in text format.\n",
        "\n",
        "Preprocessing techniques used:\n",
        "\n",
        "1. Lower casing the corpus.\n",
        "2. Dropping the columns which have 5 or less than 5 words.\n",
        "3. Removing the unwanted numbers.\n",
        "4. Removing the emojis.\n",
        "5. Removing all the punctuations.\n",
        "6. Removing the frequent words.\n",
        "\n",
        "---\n",
        "\n"
      ],
      "id": "ApAFqbnsKS9G"
    },
    {
      "cell_type": "code",
      "metadata": {
        "colab": {
          "base_uri": "https://localhost:8080/"
        },
        "id": "dominican-enlargement",
        "outputId": "b10ff4a7-d11d-4157-abaf-91ae117c0223"
      },
      "source": [
        "# Importing the necessary libraries\n",
        "\n",
        "import numpy as np\n",
        "import pandas as pd\n",
        "\n",
        "import seaborn as sns\n",
        "import matplotlib.pyplot as plt\n",
        "\n",
        "import re\n",
        "import nltk\n",
        "import string\n",
        "from string import digits\n",
        "from nltk.corpus import stopwords\n",
        "\n",
        "nltk.download('punkt')\n",
        "nltk.download('averaged_perceptron_tagger')\n",
        "\n",
        "from collections import Counter, defaultdict\n",
        "\n",
        "from sklearn.feature_extraction.text import CountVectorizer\n",
        "from sklearn.feature_extraction.text import TfidfTransformer\n",
        "from sklearn.preprocessing import LabelEncoder\n",
        "from sklearn.model_selection import train_test_split\n",
        "\n",
        "import warnings\n",
        "warnings.filterwarnings(\"ignore\", category=FutureWarning)"
      ],
      "id": "dominican-enlargement",
      "execution_count": 1,
      "outputs": [
        {
          "output_type": "stream",
          "text": [
            "[nltk_data] Downloading package punkt to /root/nltk_data...\n",
            "[nltk_data]   Unzipping tokenizers/punkt.zip.\n",
            "[nltk_data] Downloading package averaged_perceptron_tagger to\n",
            "[nltk_data]     /root/nltk_data...\n",
            "[nltk_data]   Unzipping taggers/averaged_perceptron_tagger.zip.\n"
          ],
          "name": "stdout"
        }
      ]
    },
    {
      "cell_type": "code",
      "metadata": {
        "id": "municipal-award"
      },
      "source": [
        "# Reading the first 100000 lines of dataset\n",
        "df = pd.read_json('/content/AMAZON_FASHION.json', nrows = 100000, lines = True)"
      ],
      "id": "municipal-award",
      "execution_count": 2,
      "outputs": []
    },
    {
      "cell_type": "code",
      "metadata": {
        "id": "practical-champion",
        "colab": {
          "base_uri": "https://localhost:8080/",
          "height": 231
        },
        "outputId": "0b368534-c824-4a68-ae1d-8ad11db558ae"
      },
      "source": [
        "df.head()"
      ],
      "id": "practical-champion",
      "execution_count": 3,
      "outputs": [
        {
          "output_type": "execute_result",
          "data": {
            "text/html": [
              "<div>\n",
              "<style scoped>\n",
              "    .dataframe tbody tr th:only-of-type {\n",
              "        vertical-align: middle;\n",
              "    }\n",
              "\n",
              "    .dataframe tbody tr th {\n",
              "        vertical-align: top;\n",
              "    }\n",
              "\n",
              "    .dataframe thead th {\n",
              "        text-align: right;\n",
              "    }\n",
              "</style>\n",
              "<table border=\"1\" class=\"dataframe\">\n",
              "  <thead>\n",
              "    <tr style=\"text-align: right;\">\n",
              "      <th></th>\n",
              "      <th>overall</th>\n",
              "      <th>verified</th>\n",
              "      <th>reviewTime</th>\n",
              "      <th>reviewerID</th>\n",
              "      <th>asin</th>\n",
              "      <th>reviewerName</th>\n",
              "      <th>reviewText</th>\n",
              "      <th>summary</th>\n",
              "      <th>unixReviewTime</th>\n",
              "      <th>vote</th>\n",
              "      <th>style</th>\n",
              "      <th>image</th>\n",
              "    </tr>\n",
              "  </thead>\n",
              "  <tbody>\n",
              "    <tr>\n",
              "      <th>0</th>\n",
              "      <td>5</td>\n",
              "      <td>True</td>\n",
              "      <td>10 20, 2014</td>\n",
              "      <td>A1D4G1SNUZWQOT</td>\n",
              "      <td>7106116521</td>\n",
              "      <td>Tracy</td>\n",
              "      <td>Exactly what I needed.</td>\n",
              "      <td>perfect replacements!!</td>\n",
              "      <td>1413763200</td>\n",
              "      <td>NaN</td>\n",
              "      <td>NaN</td>\n",
              "      <td>NaN</td>\n",
              "    </tr>\n",
              "    <tr>\n",
              "      <th>1</th>\n",
              "      <td>2</td>\n",
              "      <td>True</td>\n",
              "      <td>09 28, 2014</td>\n",
              "      <td>A3DDWDH9PX2YX2</td>\n",
              "      <td>7106116521</td>\n",
              "      <td>Sonja Lau</td>\n",
              "      <td>I agree with the other review, the opening is ...</td>\n",
              "      <td>I agree with the other review, the opening is ...</td>\n",
              "      <td>1411862400</td>\n",
              "      <td>3.0</td>\n",
              "      <td>NaN</td>\n",
              "      <td>NaN</td>\n",
              "    </tr>\n",
              "    <tr>\n",
              "      <th>2</th>\n",
              "      <td>4</td>\n",
              "      <td>False</td>\n",
              "      <td>08 25, 2014</td>\n",
              "      <td>A2MWC41EW7XL15</td>\n",
              "      <td>7106116521</td>\n",
              "      <td>Kathleen</td>\n",
              "      <td>Love these... I am going to order another pack...</td>\n",
              "      <td>My New 'Friends' !!</td>\n",
              "      <td>1408924800</td>\n",
              "      <td>NaN</td>\n",
              "      <td>NaN</td>\n",
              "      <td>NaN</td>\n",
              "    </tr>\n",
              "    <tr>\n",
              "      <th>3</th>\n",
              "      <td>2</td>\n",
              "      <td>True</td>\n",
              "      <td>08 24, 2014</td>\n",
              "      <td>A2UH2QQ275NV45</td>\n",
              "      <td>7106116521</td>\n",
              "      <td>Jodi Stoner</td>\n",
              "      <td>too tiny an opening</td>\n",
              "      <td>Two Stars</td>\n",
              "      <td>1408838400</td>\n",
              "      <td>NaN</td>\n",
              "      <td>NaN</td>\n",
              "      <td>NaN</td>\n",
              "    </tr>\n",
              "    <tr>\n",
              "      <th>4</th>\n",
              "      <td>3</td>\n",
              "      <td>False</td>\n",
              "      <td>07 27, 2014</td>\n",
              "      <td>A89F3LQADZBS5</td>\n",
              "      <td>7106116521</td>\n",
              "      <td>Alexander D.</td>\n",
              "      <td>Okay</td>\n",
              "      <td>Three Stars</td>\n",
              "      <td>1406419200</td>\n",
              "      <td>NaN</td>\n",
              "      <td>NaN</td>\n",
              "      <td>NaN</td>\n",
              "    </tr>\n",
              "  </tbody>\n",
              "</table>\n",
              "</div>"
            ],
            "text/plain": [
              "   overall  verified   reviewTime  ... vote style image\n",
              "0        5      True  10 20, 2014  ...  NaN   NaN   NaN\n",
              "1        2      True  09 28, 2014  ...  3.0   NaN   NaN\n",
              "2        4     False  08 25, 2014  ...  NaN   NaN   NaN\n",
              "3        2      True  08 24, 2014  ...  NaN   NaN   NaN\n",
              "4        3     False  07 27, 2014  ...  NaN   NaN   NaN\n",
              "\n",
              "[5 rows x 12 columns]"
            ]
          },
          "metadata": {
            "tags": []
          },
          "execution_count": 3
        }
      ]
    },
    {
      "cell_type": "code",
      "metadata": {
        "id": "remarkable-peace",
        "colab": {
          "base_uri": "https://localhost:8080/"
        },
        "outputId": "19b3c4db-f506-4b21-8682-03d81004ea4f"
      },
      "source": [
        "#Looking at the data information\n",
        "df.info()"
      ],
      "id": "remarkable-peace",
      "execution_count": 4,
      "outputs": [
        {
          "output_type": "stream",
          "text": [
            "<class 'pandas.core.frame.DataFrame'>\n",
            "RangeIndex: 100000 entries, 0 to 99999\n",
            "Data columns (total 12 columns):\n",
            " #   Column          Non-Null Count   Dtype  \n",
            "---  ------          --------------   -----  \n",
            " 0   overall         100000 non-null  int64  \n",
            " 1   verified        100000 non-null  bool   \n",
            " 2   reviewTime      100000 non-null  object \n",
            " 3   reviewerID      100000 non-null  object \n",
            " 4   asin            100000 non-null  object \n",
            " 5   reviewerName    99994 non-null   object \n",
            " 6   reviewText      99891 non-null   object \n",
            " 7   summary         99961 non-null   object \n",
            " 8   unixReviewTime  100000 non-null  int64  \n",
            " 9   vote            9405 non-null    float64\n",
            " 10  style           71963 non-null   object \n",
            " 11  image           1577 non-null    object \n",
            "dtypes: bool(1), float64(1), int64(2), object(8)\n",
            "memory usage: 8.5+ MB\n"
          ],
          "name": "stdout"
        }
      ]
    },
    {
      "cell_type": "code",
      "metadata": {
        "id": "auburn-michael"
      },
      "source": [
        "# Dropping the unwanted columns\n",
        "df.drop(['verified', 'reviewTime', 'reviewerID', 'asin', 'reviewerName', 'unixReviewTime', 'vote', 'style', 'summary', 'image'], axis =1, inplace=True)"
      ],
      "id": "auburn-michael",
      "execution_count": 5,
      "outputs": []
    },
    {
      "cell_type": "code",
      "metadata": {
        "scrolled": true,
        "id": "latin-nigeria"
      },
      "source": [
        "# Defining the sentiment of the text\n",
        "df['Sentiment'] = np.where(df['overall']>3, 'positive', 'negative')"
      ],
      "id": "latin-nigeria",
      "execution_count": 6,
      "outputs": []
    },
    {
      "cell_type": "code",
      "metadata": {
        "id": "minus-maria"
      },
      "source": [
        "# Dropping the NA values\n",
        "df.dropna(inplace = True)"
      ],
      "id": "minus-maria",
      "execution_count": 7,
      "outputs": []
    },
    {
      "cell_type": "markdown",
      "metadata": {
        "id": "cioPNwp5M1zm"
      },
      "source": [
        "Dropped the NA rows as there is no way to impute the reviews and the number of NA rows are low as well."
      ],
      "id": "cioPNwp5M1zm"
    },
    {
      "cell_type": "code",
      "metadata": {
        "id": "contrary-affairs"
      },
      "source": [
        "df.drop(['overall'], axis =1, inplace = True)"
      ],
      "id": "contrary-affairs",
      "execution_count": 8,
      "outputs": []
    },
    {
      "cell_type": "markdown",
      "metadata": {
        "id": "3mN9oIPsPFiK"
      },
      "source": [
        "# Preprocessing"
      ],
      "id": "3mN9oIPsPFiK"
    },
    {
      "cell_type": "code",
      "metadata": {
        "id": "enormous-spanish"
      },
      "source": [
        "# Normalizing the text\n",
        "df['reviewText'] = df['reviewText'].str.lower()"
      ],
      "id": "enormous-spanish",
      "execution_count": 9,
      "outputs": []
    },
    {
      "cell_type": "code",
      "metadata": {
        "id": "fitted-registration",
        "colab": {
          "base_uri": "https://localhost:8080/"
        },
        "outputId": "a83c9812-3c48-4896-d6ff-96bab5e705ff"
      },
      "source": [
        "# Dropping rows which have 5 or less than 5 words \n",
        "def review_length(text):\n",
        "    if len(text.split()) < 5:\n",
        "        df.drop(index = df[df['reviewText'] == text].index, inplace =True)\n",
        "\n",
        "df['reviewText'].apply(lambda x: review_length(x))"
      ],
      "id": "fitted-registration",
      "execution_count": 12,
      "outputs": [
        {
          "output_type": "execute_result",
          "data": {
            "text/plain": [
              "1        None\n",
              "2        None\n",
              "6        None\n",
              "7        None\n",
              "8        None\n",
              "         ... \n",
              "99995    None\n",
              "99996    None\n",
              "99997    None\n",
              "99998    None\n",
              "99999    None\n",
              "Name: reviewText, Length: 91240, dtype: object"
            ]
          },
          "metadata": {
            "tags": []
          },
          "execution_count": 12
        }
      ]
    },
    {
      "cell_type": "code",
      "metadata": {
        "id": "false-strip",
        "colab": {
          "base_uri": "https://localhost:8080/",
          "height": 197
        },
        "outputId": "67b7872f-03c1-4658-ddb1-b6aab0fe133e"
      },
      "source": [
        "# Removing the unwamted numbers from the text\n",
        "def remove_numbers(text):\n",
        "    \"\"\"custom function to remove the numbers\"\"\"\n",
        "    return text.translate(str.maketrans('', '', string.digits))\n",
        "\n",
        "df[\"reviewText\"] = df[\"reviewText\"].apply(lambda text: remove_numbers(text))\n",
        "df.head()"
      ],
      "id": "false-strip",
      "execution_count": 11,
      "outputs": [
        {
          "output_type": "execute_result",
          "data": {
            "text/html": [
              "<div>\n",
              "<style scoped>\n",
              "    .dataframe tbody tr th:only-of-type {\n",
              "        vertical-align: middle;\n",
              "    }\n",
              "\n",
              "    .dataframe tbody tr th {\n",
              "        vertical-align: top;\n",
              "    }\n",
              "\n",
              "    .dataframe thead th {\n",
              "        text-align: right;\n",
              "    }\n",
              "</style>\n",
              "<table border=\"1\" class=\"dataframe\">\n",
              "  <thead>\n",
              "    <tr style=\"text-align: right;\">\n",
              "      <th></th>\n",
              "      <th>reviewText</th>\n",
              "      <th>Sentiment</th>\n",
              "    </tr>\n",
              "  </thead>\n",
              "  <tbody>\n",
              "    <tr>\n",
              "      <th>1</th>\n",
              "      <td>i agree with the other review, the opening is ...</td>\n",
              "      <td>negative</td>\n",
              "    </tr>\n",
              "    <tr>\n",
              "      <th>2</th>\n",
              "      <td>love these... i am going to order another pack...</td>\n",
              "      <td>positive</td>\n",
              "    </tr>\n",
              "    <tr>\n",
              "      <th>6</th>\n",
              "      <td>these little plastic backs work great.  no mor...</td>\n",
              "      <td>positive</td>\n",
              "    </tr>\n",
              "    <tr>\n",
              "      <th>7</th>\n",
              "      <td>mother - in - law wanted it as a present for h...</td>\n",
              "      <td>negative</td>\n",
              "    </tr>\n",
              "    <tr>\n",
              "      <th>8</th>\n",
              "      <td>item is of good quality. looks great, too. but...</td>\n",
              "      <td>negative</td>\n",
              "    </tr>\n",
              "  </tbody>\n",
              "</table>\n",
              "</div>"
            ],
            "text/plain": [
              "                                          reviewText Sentiment\n",
              "1  i agree with the other review, the opening is ...  negative\n",
              "2  love these... i am going to order another pack...  positive\n",
              "6  these little plastic backs work great.  no mor...  positive\n",
              "7  mother - in - law wanted it as a present for h...  negative\n",
              "8  item is of good quality. looks great, too. but...  negative"
            ]
          },
          "metadata": {
            "tags": []
          },
          "execution_count": 11
        }
      ]
    },
    {
      "cell_type": "code",
      "metadata": {
        "id": "restricted-crawford",
        "colab": {
          "base_uri": "https://localhost:8080/",
          "height": 197
        },
        "outputId": "dcecf456-e44a-4330-afb7-1e3a1b4ed578"
      },
      "source": [
        "# Removing the emojis from the text\n",
        "def remove_emoji(string):\n",
        "    emoji_pattern = re.compile(\"[\"\n",
        "                           u\"\\U0001F600-\\U0001F64F\"  # emoticons\n",
        "                           u\"\\U0001F300-\\U0001F5FF\"  # symbols & pictographs\n",
        "                           u\"\\U0001F680-\\U0001F6FF\"  # transport & map symbols\n",
        "                           u\"\\U0001F1E0-\\U0001F1FF\"  # flags (iOS)\n",
        "                           u\"\\U00002702-\\U000027B0\"\n",
        "                           u\"\\U000024C2-\\U0001F251\"\n",
        "                           \"]+\", flags=re.UNICODE)\n",
        "    return emoji_pattern.sub(r'', string)\n",
        "\n",
        "df[\"reviewText\"] = df[\"reviewText\"].apply(lambda text: remove_numbers(text))\n",
        "df.head()"
      ],
      "id": "restricted-crawford",
      "execution_count": 13,
      "outputs": [
        {
          "output_type": "execute_result",
          "data": {
            "text/html": [
              "<div>\n",
              "<style scoped>\n",
              "    .dataframe tbody tr th:only-of-type {\n",
              "        vertical-align: middle;\n",
              "    }\n",
              "\n",
              "    .dataframe tbody tr th {\n",
              "        vertical-align: top;\n",
              "    }\n",
              "\n",
              "    .dataframe thead th {\n",
              "        text-align: right;\n",
              "    }\n",
              "</style>\n",
              "<table border=\"1\" class=\"dataframe\">\n",
              "  <thead>\n",
              "    <tr style=\"text-align: right;\">\n",
              "      <th></th>\n",
              "      <th>reviewText</th>\n",
              "      <th>Sentiment</th>\n",
              "    </tr>\n",
              "  </thead>\n",
              "  <tbody>\n",
              "    <tr>\n",
              "      <th>1</th>\n",
              "      <td>i agree with the other review, the opening is ...</td>\n",
              "      <td>negative</td>\n",
              "    </tr>\n",
              "    <tr>\n",
              "      <th>2</th>\n",
              "      <td>love these... i am going to order another pack...</td>\n",
              "      <td>positive</td>\n",
              "    </tr>\n",
              "    <tr>\n",
              "      <th>6</th>\n",
              "      <td>these little plastic backs work great.  no mor...</td>\n",
              "      <td>positive</td>\n",
              "    </tr>\n",
              "    <tr>\n",
              "      <th>7</th>\n",
              "      <td>mother - in - law wanted it as a present for h...</td>\n",
              "      <td>negative</td>\n",
              "    </tr>\n",
              "    <tr>\n",
              "      <th>8</th>\n",
              "      <td>item is of good quality. looks great, too. but...</td>\n",
              "      <td>negative</td>\n",
              "    </tr>\n",
              "  </tbody>\n",
              "</table>\n",
              "</div>"
            ],
            "text/plain": [
              "                                          reviewText Sentiment\n",
              "1  i agree with the other review, the opening is ...  negative\n",
              "2  love these... i am going to order another pack...  positive\n",
              "6  these little plastic backs work great.  no mor...  positive\n",
              "7  mother - in - law wanted it as a present for h...  negative\n",
              "8  item is of good quality. looks great, too. but...  negative"
            ]
          },
          "metadata": {
            "tags": []
          },
          "execution_count": 13
        }
      ]
    },
    {
      "cell_type": "code",
      "metadata": {
        "scrolled": true,
        "id": "naked-guarantee",
        "colab": {
          "base_uri": "https://localhost:8080/",
          "height": 197
        },
        "outputId": "beffe1b0-e1ca-40e1-8527-081b08e77b8b"
      },
      "source": [
        "# Removing all the punctutions\n",
        "def remove_punctuation(text):\n",
        "    \"\"\"custom function to remove the punctuation\"\"\"\n",
        "    return text.translate(str.maketrans('', '', string.punctuation))\n",
        "\n",
        "df[\"reviewText\"] = df[\"reviewText\"].apply(lambda text: remove_punctuation(text))\n",
        "df.head()"
      ],
      "id": "naked-guarantee",
      "execution_count": 14,
      "outputs": [
        {
          "output_type": "execute_result",
          "data": {
            "text/html": [
              "<div>\n",
              "<style scoped>\n",
              "    .dataframe tbody tr th:only-of-type {\n",
              "        vertical-align: middle;\n",
              "    }\n",
              "\n",
              "    .dataframe tbody tr th {\n",
              "        vertical-align: top;\n",
              "    }\n",
              "\n",
              "    .dataframe thead th {\n",
              "        text-align: right;\n",
              "    }\n",
              "</style>\n",
              "<table border=\"1\" class=\"dataframe\">\n",
              "  <thead>\n",
              "    <tr style=\"text-align: right;\">\n",
              "      <th></th>\n",
              "      <th>reviewText</th>\n",
              "      <th>Sentiment</th>\n",
              "    </tr>\n",
              "  </thead>\n",
              "  <tbody>\n",
              "    <tr>\n",
              "      <th>1</th>\n",
              "      <td>i agree with the other review the opening is t...</td>\n",
              "      <td>negative</td>\n",
              "    </tr>\n",
              "    <tr>\n",
              "      <th>2</th>\n",
              "      <td>love these i am going to order another pack to...</td>\n",
              "      <td>positive</td>\n",
              "    </tr>\n",
              "    <tr>\n",
              "      <th>6</th>\n",
              "      <td>these little plastic backs work great  no more...</td>\n",
              "      <td>positive</td>\n",
              "    </tr>\n",
              "    <tr>\n",
              "      <th>7</th>\n",
              "      <td>mother  in  law wanted it as a present for her...</td>\n",
              "      <td>negative</td>\n",
              "    </tr>\n",
              "    <tr>\n",
              "      <th>8</th>\n",
              "      <td>item is of good quality looks great too but it...</td>\n",
              "      <td>negative</td>\n",
              "    </tr>\n",
              "  </tbody>\n",
              "</table>\n",
              "</div>"
            ],
            "text/plain": [
              "                                          reviewText Sentiment\n",
              "1  i agree with the other review the opening is t...  negative\n",
              "2  love these i am going to order another pack to...  positive\n",
              "6  these little plastic backs work great  no more...  positive\n",
              "7  mother  in  law wanted it as a present for her...  negative\n",
              "8  item is of good quality looks great too but it...  negative"
            ]
          },
          "metadata": {
            "tags": []
          },
          "execution_count": 14
        }
      ]
    },
    {
      "cell_type": "code",
      "metadata": {
        "id": "visible-capitol",
        "colab": {
          "base_uri": "https://localhost:8080/",
          "height": 197
        },
        "outputId": "d90e47d0-8fef-4c92-b9cc-5a1e2dbe599d"
      },
      "source": [
        "# Removing the most frequent words\n",
        "cnt = Counter()\n",
        "for text in df[\"reviewText\"].values:\n",
        "    for word in text.split():\n",
        "        cnt[word] += 1\n",
        "        \n",
        "FREQWORDS = set([w for (w, wc) in cnt.most_common(25)])\n",
        "def remove_freqwords(text):\n",
        "    \"\"\"custom function to remove the frequent words\"\"\"\n",
        "    return \" \".join([word for word in str(text).split() if word not in FREQWORDS])\n",
        "\n",
        "df[\"text_wo_stopfreq\"] = df[\"reviewText\"].apply(lambda text: remove_freqwords(text))\n",
        "df.head()"
      ],
      "id": "visible-capitol",
      "execution_count": 15,
      "outputs": [
        {
          "output_type": "execute_result",
          "data": {
            "text/html": [
              "<div>\n",
              "<style scoped>\n",
              "    .dataframe tbody tr th:only-of-type {\n",
              "        vertical-align: middle;\n",
              "    }\n",
              "\n",
              "    .dataframe tbody tr th {\n",
              "        vertical-align: top;\n",
              "    }\n",
              "\n",
              "    .dataframe thead th {\n",
              "        text-align: right;\n",
              "    }\n",
              "</style>\n",
              "<table border=\"1\" class=\"dataframe\">\n",
              "  <thead>\n",
              "    <tr style=\"text-align: right;\">\n",
              "      <th></th>\n",
              "      <th>reviewText</th>\n",
              "      <th>Sentiment</th>\n",
              "      <th>text_wo_stopfreq</th>\n",
              "    </tr>\n",
              "  </thead>\n",
              "  <tbody>\n",
              "    <tr>\n",
              "      <th>1</th>\n",
              "      <td>i agree with the other review the opening is t...</td>\n",
              "      <td>negative</td>\n",
              "      <td>agree other review opening too small almost be...</td>\n",
              "    </tr>\n",
              "    <tr>\n",
              "      <th>2</th>\n",
              "      <td>love these i am going to order another pack to...</td>\n",
              "      <td>positive</td>\n",
              "      <td>love am going order another pack keep work som...</td>\n",
              "    </tr>\n",
              "    <tr>\n",
              "      <th>6</th>\n",
              "      <td>these little plastic backs work great  no more...</td>\n",
              "      <td>positive</td>\n",
              "      <td>little plastic backs work great no more loosin...</td>\n",
              "    </tr>\n",
              "    <tr>\n",
              "      <th>7</th>\n",
              "      <td>mother  in  law wanted it as a present for her...</td>\n",
              "      <td>negative</td>\n",
              "      <td>mother law wanted as present her sister she li...</td>\n",
              "    </tr>\n",
              "    <tr>\n",
              "      <th>8</th>\n",
              "      <td>item is of good quality looks great too but it...</td>\n",
              "      <td>negative</td>\n",
              "      <td>item good quality looks great too does fit s c...</td>\n",
              "    </tr>\n",
              "  </tbody>\n",
              "</table>\n",
              "</div>"
            ],
            "text/plain": [
              "                                          reviewText  ...                                   text_wo_stopfreq\n",
              "1  i agree with the other review the opening is t...  ...  agree other review opening too small almost be...\n",
              "2  love these i am going to order another pack to...  ...  love am going order another pack keep work som...\n",
              "6  these little plastic backs work great  no more...  ...  little plastic backs work great no more loosin...\n",
              "7  mother  in  law wanted it as a present for her...  ...  mother law wanted as present her sister she li...\n",
              "8  item is of good quality looks great too but it...  ...  item good quality looks great too does fit s c...\n",
              "\n",
              "[5 rows x 3 columns]"
            ]
          },
          "metadata": {
            "tags": []
          },
          "execution_count": 15
        }
      ]
    },
    {
      "cell_type": "code",
      "metadata": {
        "id": "surprising-beauty"
      },
      "source": [
        "df.reset_index(inplace =True, drop = True)"
      ],
      "id": "surprising-beauty",
      "execution_count": 16,
      "outputs": []
    },
    {
      "cell_type": "code",
      "metadata": {
        "id": "french-custom"
      },
      "source": [
        "df.drop(['reviewText'], axis = 1, inplace = True)"
      ],
      "id": "french-custom",
      "execution_count": 17,
      "outputs": []
    },
    {
      "cell_type": "markdown",
      "metadata": {
        "id": "durable-recycling"
      },
      "source": [
        "# Module 1"
      ],
      "id": "durable-recycling"
    },
    {
      "cell_type": "code",
      "metadata": {
        "id": "confused-blues"
      },
      "source": [
        "# Getting the word count and proportion \n",
        "cnt_new = Counter()\n",
        "for text in df[\"text_wo_stopfreq\"].values:\n",
        "    for word in text.split():\n",
        "        cnt_new[word] += 1"
      ],
      "id": "confused-blues",
      "execution_count": 18,
      "outputs": []
    },
    {
      "cell_type": "code",
      "metadata": {
        "id": "athletic-conversion"
      },
      "source": [
        "cnt_df = pd\\\n",
        "        .DataFrame.from_dict(cnt_new, orient='index')\\\n",
        "        .sort_values(0, ascending=False) \\\n",
        "        .reset_index() \\\n",
        "        .rename(columns={'index':'word', 0:'count'})"
      ],
      "id": "athletic-conversion",
      "execution_count": 19,
      "outputs": []
    },
    {
      "cell_type": "code",
      "metadata": {
        "id": "polish-water",
        "colab": {
          "base_uri": "https://localhost:8080/",
          "height": 347
        },
        "outputId": "0d0ad997-9ba4-45e3-8a1c-4e050eea57dd"
      },
      "source": [
        "cnt_df['proportion'] = cnt_df['count']/cnt_df['count'].sum()\n",
        "cnt_df.head(10)"
      ],
      "id": "polish-water",
      "execution_count": 20,
      "outputs": [
        {
          "output_type": "execute_result",
          "data": {
            "text/html": [
              "<div>\n",
              "<style scoped>\n",
              "    .dataframe tbody tr th:only-of-type {\n",
              "        vertical-align: middle;\n",
              "    }\n",
              "\n",
              "    .dataframe tbody tr th {\n",
              "        vertical-align: top;\n",
              "    }\n",
              "\n",
              "    .dataframe thead th {\n",
              "        text-align: right;\n",
              "    }\n",
              "</style>\n",
              "<table border=\"1\" class=\"dataframe\">\n",
              "  <thead>\n",
              "    <tr style=\"text-align: right;\">\n",
              "      <th></th>\n",
              "      <th>word</th>\n",
              "      <th>count</th>\n",
              "      <th>proportion</th>\n",
              "    </tr>\n",
              "  </thead>\n",
              "  <tbody>\n",
              "    <tr>\n",
              "      <th>0</th>\n",
              "      <td>as</td>\n",
              "      <td>19952</td>\n",
              "      <td>0.009769</td>\n",
              "    </tr>\n",
              "    <tr>\n",
              "      <th>1</th>\n",
              "      <td>great</td>\n",
              "      <td>19772</td>\n",
              "      <td>0.009681</td>\n",
              "    </tr>\n",
              "    <tr>\n",
              "      <th>2</th>\n",
              "      <td>fit</td>\n",
              "      <td>17257</td>\n",
              "      <td>0.008449</td>\n",
              "    </tr>\n",
              "    <tr>\n",
              "      <th>3</th>\n",
              "      <td>size</td>\n",
              "      <td>16926</td>\n",
              "      <td>0.008287</td>\n",
              "    </tr>\n",
              "    <tr>\n",
              "      <th>4</th>\n",
              "      <td>you</td>\n",
              "      <td>16747</td>\n",
              "      <td>0.008200</td>\n",
              "    </tr>\n",
              "    <tr>\n",
              "      <th>5</th>\n",
              "      <td>like</td>\n",
              "      <td>15096</td>\n",
              "      <td>0.007391</td>\n",
              "    </tr>\n",
              "    <tr>\n",
              "      <th>6</th>\n",
              "      <td>be</td>\n",
              "      <td>14620</td>\n",
              "      <td>0.007158</td>\n",
              "    </tr>\n",
              "    <tr>\n",
              "      <th>7</th>\n",
              "      <td>love</td>\n",
              "      <td>13214</td>\n",
              "      <td>0.006470</td>\n",
              "    </tr>\n",
              "    <tr>\n",
              "      <th>8</th>\n",
              "      <td>its</td>\n",
              "      <td>13077</td>\n",
              "      <td>0.006403</td>\n",
              "    </tr>\n",
              "    <tr>\n",
              "      <th>9</th>\n",
              "      <td>just</td>\n",
              "      <td>13074</td>\n",
              "      <td>0.006401</td>\n",
              "    </tr>\n",
              "  </tbody>\n",
              "</table>\n",
              "</div>"
            ],
            "text/plain": [
              "    word  count  proportion\n",
              "0     as  19952    0.009769\n",
              "1  great  19772    0.009681\n",
              "2    fit  17257    0.008449\n",
              "3   size  16926    0.008287\n",
              "4    you  16747    0.008200\n",
              "5   like  15096    0.007391\n",
              "6     be  14620    0.007158\n",
              "7   love  13214    0.006470\n",
              "8    its  13077    0.006403\n",
              "9   just  13074    0.006401"
            ]
          },
          "metadata": {
            "tags": []
          },
          "execution_count": 20
        }
      ]
    },
    {
      "cell_type": "code",
      "metadata": {
        "colab": {
          "base_uri": "https://localhost:8080/"
        },
        "id": "g7QGI0KXXbjk",
        "outputId": "a9d4e81b-7973-4e6a-87ea-f4bdca1d123e"
      },
      "source": [
        "print('The total number of words in the corpus is: {}'.format(cnt_df['word'].__len__()))\n",
        "print('The total word count is: {}'.format(cnt_df['count'].sum()))"
      ],
      "id": "g7QGI0KXXbjk",
      "execution_count": 23,
      "outputs": [
        {
          "output_type": "stream",
          "text": [
            "The total number of words in the corpus is: 34491\n",
            "The total word count is: 2042410\n"
          ],
          "name": "stdout"
        }
      ]
    },
    {
      "cell_type": "code",
      "metadata": {
        "id": "national-trauma"
      },
      "source": [
        "# Counting the unigrams and bigrams\n",
        "\n",
        "count = defaultdict()\n",
        "def ngrams(text, n):\n",
        "    Tokens = nltk.word_tokenize(text)\n",
        "    output = list(nltk.ngrams(Tokens, n))\n",
        "    for a in output:\n",
        "        if a in count.keys():\n",
        "            count[a] += 1\n",
        "        else:\n",
        "            count[a] = 1\n",
        "    return count"
      ],
      "id": "national-trauma",
      "execution_count": 58,
      "outputs": []
    },
    {
      "cell_type": "code",
      "metadata": {
        "id": "mature-regression"
      },
      "source": [
        "n_grams = df['text_wo_stopfreq'].apply(lambda x: ngrams(x, 1))"
      ],
      "id": "mature-regression",
      "execution_count": 59,
      "outputs": []
    },
    {
      "cell_type": "code",
      "metadata": {
        "id": "motivated-prize",
        "colab": {
          "base_uri": "https://localhost:8080/"
        },
        "outputId": "47741cdf-c6d1-41c9-f6b8-49fcebaf155d"
      },
      "source": [
        "# Unigram distribution\n",
        "sorted(count.items(), key = lambda x: x[1], reverse = True)[:10]"
      ],
      "id": "motivated-prize",
      "execution_count": 27,
      "outputs": [
        {
          "output_type": "execute_result",
          "data": {
            "text/plain": [
              "[(('as',), 19952),\n",
              " (('great',), 19772),\n",
              " (('fit',), 17257),\n",
              " (('size',), 16926),\n",
              " (('you',), 16747),\n",
              " (('like',), 15096),\n",
              " (('be',), 14620),\n",
              " (('love',), 13214),\n",
              " (('its',), 13077),\n",
              " (('just',), 13074)]"
            ]
          },
          "metadata": {
            "tags": []
          },
          "execution_count": 27
        }
      ]
    },
    {
      "cell_type": "code",
      "metadata": {
        "id": "timely-correspondence",
        "colab": {
          "base_uri": "https://localhost:8080/"
        },
        "outputId": "ef3c5695-33e0-4d19-89aa-fd2315dfc17d"
      },
      "source": [
        "# Bigram distribution\n",
        "sorted(count.items(), key = lambda x: x[1], reverse = True)[:10]"
      ],
      "id": "timely-correspondence",
      "execution_count": 31,
      "outputs": [
        {
          "output_type": "execute_result",
          "data": {
            "text/plain": [
              "[(('if', 'you'), 3042),\n",
              " (('would', 'be'), 1843),\n",
              " (('will', 'be'), 1688),\n",
              " (('good', 'quality'), 1658),\n",
              " (('too', 'big'), 1594),\n",
              " (('you', 'can'), 1512),\n",
              " (('year', 'old'), 1491),\n",
              " (('well', 'made'), 1470),\n",
              " (('as', 'well'), 1429),\n",
              " (('too', 'small'), 1416)]"
            ]
          },
          "metadata": {
            "tags": []
          },
          "execution_count": 31
        }
      ]
    },
    {
      "cell_type": "code",
      "metadata": {
        "id": "recent-candy"
      },
      "source": [
        "# Getting the POS collection\n",
        "complete = ''\n",
        "for w in df['text_wo_stopfreq']:\n",
        "    complete += w "
      ],
      "id": "recent-candy",
      "execution_count": 32,
      "outputs": []
    },
    {
      "cell_type": "code",
      "metadata": {
        "id": "spanish-convertible"
      },
      "source": [
        "tokens = nltk.word_tokenize(complete)\n",
        "tags = nltk.pos_tag(tokens)\n",
        "counts = Counter( tag for word,  tag in tags)\n",
        "\n",
        "pos_df = pd\\\n",
        "        .DataFrame.from_dict(counts, orient='index')\\\n",
        "        .sort_values(0, ascending=False) \\\n",
        "        .reset_index() \\\n",
        "        .rename(columns={'index':'word', 0:'count'})"
      ],
      "id": "spanish-convertible",
      "execution_count": 33,
      "outputs": []
    },
    {
      "cell_type": "code",
      "metadata": {
        "id": "viral-thumb",
        "colab": {
          "base_uri": "https://localhost:8080/",
          "height": 197
        },
        "outputId": "c029bc63-0d03-461b-bc59-87c1268cad2c"
      },
      "source": [
        "pos_df.head()"
      ],
      "id": "viral-thumb",
      "execution_count": 34,
      "outputs": [
        {
          "output_type": "execute_result",
          "data": {
            "text/html": [
              "<div>\n",
              "<style scoped>\n",
              "    .dataframe tbody tr th:only-of-type {\n",
              "        vertical-align: middle;\n",
              "    }\n",
              "\n",
              "    .dataframe tbody tr th {\n",
              "        vertical-align: top;\n",
              "    }\n",
              "\n",
              "    .dataframe thead th {\n",
              "        text-align: right;\n",
              "    }\n",
              "</style>\n",
              "<table border=\"1\" class=\"dataframe\">\n",
              "  <thead>\n",
              "    <tr style=\"text-align: right;\">\n",
              "      <th></th>\n",
              "      <th>word</th>\n",
              "      <th>count</th>\n",
              "    </tr>\n",
              "  </thead>\n",
              "  <tbody>\n",
              "    <tr>\n",
              "      <th>0</th>\n",
              "      <td>NN</td>\n",
              "      <td>448193</td>\n",
              "    </tr>\n",
              "    <tr>\n",
              "      <th>1</th>\n",
              "      <td>JJ</td>\n",
              "      <td>344623</td>\n",
              "    </tr>\n",
              "    <tr>\n",
              "      <th>2</th>\n",
              "      <td>RB</td>\n",
              "      <td>193711</td>\n",
              "    </tr>\n",
              "    <tr>\n",
              "      <th>3</th>\n",
              "      <td>NNS</td>\n",
              "      <td>144978</td>\n",
              "    </tr>\n",
              "    <tr>\n",
              "      <th>4</th>\n",
              "      <td>IN</td>\n",
              "      <td>132735</td>\n",
              "    </tr>\n",
              "  </tbody>\n",
              "</table>\n",
              "</div>"
            ],
            "text/plain": [
              "  word   count\n",
              "0   NN  448193\n",
              "1   JJ  344623\n",
              "2   RB  193711\n",
              "3  NNS  144978\n",
              "4   IN  132735"
            ]
          },
          "metadata": {
            "tags": []
          },
          "execution_count": 34
        }
      ]
    },
    {
      "cell_type": "markdown",
      "metadata": {
        "id": "4finMRtTcquf"
      },
      "source": [
        "Neither of the three perfectly proves Zipf's law, however, POS collections and Bigrams are comparatively better than unigram and word count."
      ],
      "id": "4finMRtTcquf"
    },
    {
      "cell_type": "markdown",
      "metadata": {
        "id": "destroyed-chaos"
      },
      "source": [
        "# Module 2"
      ],
      "id": "destroyed-chaos"
    },
    {
      "cell_type": "code",
      "metadata": {
        "id": "governmental-citation"
      },
      "source": [
        "from sklearn.linear_model import LogisticRegression\n",
        "from sklearn.tree import DecisionTreeClassifier\n",
        "\n",
        "from sklearn.model_selection import cross_val_score\n",
        "from sklearn.metrics import accuracy_score, confusion_matrix"
      ],
      "id": "governmental-citation",
      "execution_count": 41,
      "outputs": []
    },
    {
      "cell_type": "code",
      "metadata": {
        "id": "assumed-cookbook"
      },
      "source": [
        "count_vect = CountVectorizer()\n",
        "X_train_counts = count_vect.fit_transform(df['text_wo_stopfreq'])"
      ],
      "id": "assumed-cookbook",
      "execution_count": 35,
      "outputs": []
    },
    {
      "cell_type": "code",
      "metadata": {
        "id": "unlikely-stress"
      },
      "source": [
        "y = LabelEncoder().fit_transform(df['Sentiment'])"
      ],
      "id": "unlikely-stress",
      "execution_count": 37,
      "outputs": []
    },
    {
      "cell_type": "code",
      "metadata": {
        "id": "graphic-might"
      },
      "source": [
        "tfidf_transformer = TfidfTransformer()\n",
        "X_train_tfidf = tfidf_transformer.fit_transform(X_train_counts)"
      ],
      "id": "graphic-might",
      "execution_count": 36,
      "outputs": []
    },
    {
      "cell_type": "code",
      "metadata": {
        "id": "fallen-class"
      },
      "source": [
        "lr = LogisticRegression(max_iter= 500)\n",
        "dt = DecisionTreeClassifier()"
      ],
      "id": "fallen-class",
      "execution_count": 42,
      "outputs": []
    },
    {
      "cell_type": "code",
      "metadata": {
        "id": "JcJzXlaUzGic"
      },
      "source": [
        "models = defaultdict(list)\n",
        "for model in [lr, dt]:\n",
        "  for vector in [X_train_counts, X_train_tfidf]:\n",
        "    for scores in['f1', 'accuracy', 'recall']:\n",
        "      score = cross_val_score(model, vector, y, cv=5, scoring = scores)\n",
        "      models['Technique'].append(model)\n",
        "      models['Vector'].append(vector)\n",
        "      models['Scoring'].append(scores)\n",
        "      models['Score'].append(score.mean())"
      ],
      "id": "JcJzXlaUzGic",
      "execution_count": 61,
      "outputs": []
    },
    {
      "cell_type": "code",
      "metadata": {
        "colab": {
          "base_uri": "https://localhost:8080/",
          "height": 407
        },
        "id": "Y9fruMSz0ckv",
        "outputId": "b26af6e3-49de-4e04-90b9-68e1630073a7"
      },
      "source": [
        "pd.DataFrame(models)"
      ],
      "id": "Y9fruMSz0ckv",
      "execution_count": 62,
      "outputs": [
        {
          "output_type": "execute_result",
          "data": {
            "text/html": [
              "<div>\n",
              "<style scoped>\n",
              "    .dataframe tbody tr th:only-of-type {\n",
              "        vertical-align: middle;\n",
              "    }\n",
              "\n",
              "    .dataframe tbody tr th {\n",
              "        vertical-align: top;\n",
              "    }\n",
              "\n",
              "    .dataframe thead th {\n",
              "        text-align: right;\n",
              "    }\n",
              "</style>\n",
              "<table border=\"1\" class=\"dataframe\">\n",
              "  <thead>\n",
              "    <tr style=\"text-align: right;\">\n",
              "      <th></th>\n",
              "      <th>Technique</th>\n",
              "      <th>Vector</th>\n",
              "      <th>Scoring</th>\n",
              "      <th>Score</th>\n",
              "    </tr>\n",
              "  </thead>\n",
              "  <tbody>\n",
              "    <tr>\n",
              "      <th>0</th>\n",
              "      <td>LogisticRegression(C=1.0, class_weight=None, d...</td>\n",
              "      <td>(0, 552)\\t1\\n  (0, 613)\\t1\\n  (0, 838)\\t1\\n ...</td>\n",
              "      <td>f1</td>\n",
              "      <td>0.912790</td>\n",
              "    </tr>\n",
              "    <tr>\n",
              "      <th>1</th>\n",
              "      <td>LogisticRegression(C=1.0, class_weight=None, d...</td>\n",
              "      <td>(0, 552)\\t1\\n  (0, 613)\\t1\\n  (0, 838)\\t1\\n ...</td>\n",
              "      <td>accuracy</td>\n",
              "      <td>0.864419</td>\n",
              "    </tr>\n",
              "    <tr>\n",
              "      <th>2</th>\n",
              "      <td>LogisticRegression(C=1.0, class_weight=None, d...</td>\n",
              "      <td>(0, 552)\\t1\\n  (0, 613)\\t1\\n  (0, 838)\\t1\\n ...</td>\n",
              "      <td>recall</td>\n",
              "      <td>0.936456</td>\n",
              "    </tr>\n",
              "    <tr>\n",
              "      <th>3</th>\n",
              "      <td>LogisticRegression(C=1.0, class_weight=None, d...</td>\n",
              "      <td>(0, 33962)\\t0.11482439387422463\\n  (0, 32033...</td>\n",
              "      <td>f1</td>\n",
              "      <td>0.914855</td>\n",
              "    </tr>\n",
              "    <tr>\n",
              "      <th>4</th>\n",
              "      <td>LogisticRegression(C=1.0, class_weight=None, d...</td>\n",
              "      <td>(0, 33962)\\t0.11482439387422463\\n  (0, 32033...</td>\n",
              "      <td>accuracy</td>\n",
              "      <td>0.866280</td>\n",
              "    </tr>\n",
              "    <tr>\n",
              "      <th>5</th>\n",
              "      <td>LogisticRegression(C=1.0, class_weight=None, d...</td>\n",
              "      <td>(0, 33962)\\t0.11482439387422463\\n  (0, 32033...</td>\n",
              "      <td>recall</td>\n",
              "      <td>0.946833</td>\n",
              "    </tr>\n",
              "    <tr>\n",
              "      <th>6</th>\n",
              "      <td>DecisionTreeClassifier(ccp_alpha=0.0, class_we...</td>\n",
              "      <td>(0, 552)\\t1\\n  (0, 613)\\t1\\n  (0, 838)\\t1\\n ...</td>\n",
              "      <td>f1</td>\n",
              "      <td>0.889750</td>\n",
              "    </tr>\n",
              "    <tr>\n",
              "      <th>7</th>\n",
              "      <td>DecisionTreeClassifier(ccp_alpha=0.0, class_we...</td>\n",
              "      <td>(0, 552)\\t1\\n  (0, 613)\\t1\\n  (0, 838)\\t1\\n ...</td>\n",
              "      <td>accuracy</td>\n",
              "      <td>0.830602</td>\n",
              "    </tr>\n",
              "    <tr>\n",
              "      <th>8</th>\n",
              "      <td>DecisionTreeClassifier(ccp_alpha=0.0, class_we...</td>\n",
              "      <td>(0, 552)\\t1\\n  (0, 613)\\t1\\n  (0, 838)\\t1\\n ...</td>\n",
              "      <td>recall</td>\n",
              "      <td>0.900791</td>\n",
              "    </tr>\n",
              "    <tr>\n",
              "      <th>9</th>\n",
              "      <td>DecisionTreeClassifier(ccp_alpha=0.0, class_we...</td>\n",
              "      <td>(0, 33962)\\t0.11482439387422463\\n  (0, 32033...</td>\n",
              "      <td>f1</td>\n",
              "      <td>0.887010</td>\n",
              "    </tr>\n",
              "    <tr>\n",
              "      <th>10</th>\n",
              "      <td>DecisionTreeClassifier(ccp_alpha=0.0, class_we...</td>\n",
              "      <td>(0, 33962)\\t0.11482439387422463\\n  (0, 32033...</td>\n",
              "      <td>accuracy</td>\n",
              "      <td>0.828311</td>\n",
              "    </tr>\n",
              "    <tr>\n",
              "      <th>11</th>\n",
              "      <td>DecisionTreeClassifier(ccp_alpha=0.0, class_we...</td>\n",
              "      <td>(0, 33962)\\t0.11482439387422463\\n  (0, 32033...</td>\n",
              "      <td>recall</td>\n",
              "      <td>0.898722</td>\n",
              "    </tr>\n",
              "  </tbody>\n",
              "</table>\n",
              "</div>"
            ],
            "text/plain": [
              "                                            Technique  ...     Score\n",
              "0   LogisticRegression(C=1.0, class_weight=None, d...  ...  0.912790\n",
              "1   LogisticRegression(C=1.0, class_weight=None, d...  ...  0.864419\n",
              "2   LogisticRegression(C=1.0, class_weight=None, d...  ...  0.936456\n",
              "3   LogisticRegression(C=1.0, class_weight=None, d...  ...  0.914855\n",
              "4   LogisticRegression(C=1.0, class_weight=None, d...  ...  0.866280\n",
              "5   LogisticRegression(C=1.0, class_weight=None, d...  ...  0.946833\n",
              "6   DecisionTreeClassifier(ccp_alpha=0.0, class_we...  ...  0.889750\n",
              "7   DecisionTreeClassifier(ccp_alpha=0.0, class_we...  ...  0.830602\n",
              "8   DecisionTreeClassifier(ccp_alpha=0.0, class_we...  ...  0.900791\n",
              "9   DecisionTreeClassifier(ccp_alpha=0.0, class_we...  ...  0.887010\n",
              "10  DecisionTreeClassifier(ccp_alpha=0.0, class_we...  ...  0.828311\n",
              "11  DecisionTreeClassifier(ccp_alpha=0.0, class_we...  ...  0.898722\n",
              "\n",
              "[12 rows x 4 columns]"
            ]
          },
          "metadata": {
            "tags": []
          },
          "execution_count": 62
        }
      ]
    },
    {
      "cell_type": "markdown",
      "metadata": {
        "id": "S6QbjabXqJUl"
      },
      "source": [
        "# Result\n",
        "\n",
        "For both TF-IDF and count vectoriser, Logistic Regression gives the best result in all metrics. So, overall Logit model does better than Decision Tree and the best vectoriser is TF-IDF."
      ],
      "id": "S6QbjabXqJUl"
    },
    {
      "cell_type": "code",
      "metadata": {
        "id": "Sr0_SMEEqsea"
      },
      "source": [
        ""
      ],
      "id": "Sr0_SMEEqsea",
      "execution_count": null,
      "outputs": []
    }
  ]
}